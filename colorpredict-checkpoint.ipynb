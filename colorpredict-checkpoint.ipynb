{
 "cells": [
  {
   "cell_type": "code",
   "execution_count": 5,
   "metadata": {},
   "outputs": [],
   "source": [
    "import pandas as pd\n",
    "import numpy as np"
   ]
  },
  {
   "cell_type": "code",
   "execution_count": 6,
   "metadata": {},
   "outputs": [],
   "source": [
    "df = pd.read_excel(\"C:\\\\Users\\\\User\\\\Desktop\\\\colordata.xlsx\")"
   ]
  },
  {
   "cell_type": "code",
   "execution_count": 7,
   "metadata": {},
   "outputs": [
    {
     "data": {
      "text/html": [
       "<div>\n",
       "<style scoped>\n",
       "    .dataframe tbody tr th:only-of-type {\n",
       "        vertical-align: middle;\n",
       "    }\n",
       "\n",
       "    .dataframe tbody tr th {\n",
       "        vertical-align: top;\n",
       "    }\n",
       "\n",
       "    .dataframe thead th {\n",
       "        text-align: right;\n",
       "    }\n",
       "</style>\n",
       "<table border=\"1\" class=\"dataframe\">\n",
       "  <thead>\n",
       "    <tr style=\"text-align: right;\">\n",
       "      <th></th>\n",
       "      <th>Unnamed: 0</th>\n",
       "      <th>0</th>\n",
       "      <th>1</th>\n",
       "      <th>2</th>\n",
       "      <th>3</th>\n",
       "      <th>4</th>\n",
       "      <th>5</th>\n",
       "      <th>6</th>\n",
       "      <th>7</th>\n",
       "      <th>8</th>\n",
       "      <th>...</th>\n",
       "      <th>2343</th>\n",
       "      <th>2344</th>\n",
       "      <th>2345</th>\n",
       "      <th>2346</th>\n",
       "      <th>2347</th>\n",
       "      <th>2348</th>\n",
       "      <th>2349</th>\n",
       "      <th>2350</th>\n",
       "      <th>2351</th>\n",
       "      <th>label</th>\n",
       "    </tr>\n",
       "  </thead>\n",
       "  <tbody>\n",
       "    <tr>\n",
       "      <th>0</th>\n",
       "      <td>0</td>\n",
       "      <td>10</td>\n",
       "      <td>5</td>\n",
       "      <td>2</td>\n",
       "      <td>10</td>\n",
       "      <td>5</td>\n",
       "      <td>2</td>\n",
       "      <td>10</td>\n",
       "      <td>5</td>\n",
       "      <td>2</td>\n",
       "      <td>...</td>\n",
       "      <td>10</td>\n",
       "      <td>5</td>\n",
       "      <td>2</td>\n",
       "      <td>10</td>\n",
       "      <td>5</td>\n",
       "      <td>2</td>\n",
       "      <td>10</td>\n",
       "      <td>5</td>\n",
       "      <td>2</td>\n",
       "      <td>black</td>\n",
       "    </tr>\n",
       "    <tr>\n",
       "      <th>1</th>\n",
       "      <td>1</td>\n",
       "      <td>17</td>\n",
       "      <td>0</td>\n",
       "      <td>17</td>\n",
       "      <td>17</td>\n",
       "      <td>0</td>\n",
       "      <td>17</td>\n",
       "      <td>17</td>\n",
       "      <td>0</td>\n",
       "      <td>17</td>\n",
       "      <td>...</td>\n",
       "      <td>17</td>\n",
       "      <td>0</td>\n",
       "      <td>17</td>\n",
       "      <td>17</td>\n",
       "      <td>0</td>\n",
       "      <td>17</td>\n",
       "      <td>17</td>\n",
       "      <td>0</td>\n",
       "      <td>17</td>\n",
       "      <td>black</td>\n",
       "    </tr>\n",
       "    <tr>\n",
       "      <th>2</th>\n",
       "      <td>2</td>\n",
       "      <td>29</td>\n",
       "      <td>24</td>\n",
       "      <td>23</td>\n",
       "      <td>29</td>\n",
       "      <td>24</td>\n",
       "      <td>23</td>\n",
       "      <td>29</td>\n",
       "      <td>24</td>\n",
       "      <td>23</td>\n",
       "      <td>...</td>\n",
       "      <td>29</td>\n",
       "      <td>24</td>\n",
       "      <td>23</td>\n",
       "      <td>29</td>\n",
       "      <td>24</td>\n",
       "      <td>23</td>\n",
       "      <td>29</td>\n",
       "      <td>24</td>\n",
       "      <td>23</td>\n",
       "      <td>black</td>\n",
       "    </tr>\n",
       "    <tr>\n",
       "      <th>3</th>\n",
       "      <td>3</td>\n",
       "      <td>47</td>\n",
       "      <td>47</td>\n",
       "      <td>47</td>\n",
       "      <td>47</td>\n",
       "      <td>47</td>\n",
       "      <td>47</td>\n",
       "      <td>47</td>\n",
       "      <td>47</td>\n",
       "      <td>47</td>\n",
       "      <td>...</td>\n",
       "      <td>47</td>\n",
       "      <td>47</td>\n",
       "      <td>47</td>\n",
       "      <td>47</td>\n",
       "      <td>47</td>\n",
       "      <td>47</td>\n",
       "      <td>47</td>\n",
       "      <td>47</td>\n",
       "      <td>47</td>\n",
       "      <td>black</td>\n",
       "    </tr>\n",
       "    <tr>\n",
       "      <th>4</th>\n",
       "      <td>4</td>\n",
       "      <td>28</td>\n",
       "      <td>29</td>\n",
       "      <td>33</td>\n",
       "      <td>28</td>\n",
       "      <td>29</td>\n",
       "      <td>33</td>\n",
       "      <td>28</td>\n",
       "      <td>29</td>\n",
       "      <td>33</td>\n",
       "      <td>...</td>\n",
       "      <td>28</td>\n",
       "      <td>29</td>\n",
       "      <td>33</td>\n",
       "      <td>28</td>\n",
       "      <td>29</td>\n",
       "      <td>33</td>\n",
       "      <td>28</td>\n",
       "      <td>29</td>\n",
       "      <td>33</td>\n",
       "      <td>black</td>\n",
       "    </tr>\n",
       "    <tr>\n",
       "      <th>...</th>\n",
       "      <td>...</td>\n",
       "      <td>...</td>\n",
       "      <td>...</td>\n",
       "      <td>...</td>\n",
       "      <td>...</td>\n",
       "      <td>...</td>\n",
       "      <td>...</td>\n",
       "      <td>...</td>\n",
       "      <td>...</td>\n",
       "      <td>...</td>\n",
       "      <td>...</td>\n",
       "      <td>...</td>\n",
       "      <td>...</td>\n",
       "      <td>...</td>\n",
       "      <td>...</td>\n",
       "      <td>...</td>\n",
       "      <td>...</td>\n",
       "      <td>...</td>\n",
       "      <td>...</td>\n",
       "      <td>...</td>\n",
       "      <td>...</td>\n",
       "    </tr>\n",
       "    <tr>\n",
       "      <th>245</th>\n",
       "      <td>245</td>\n",
       "      <td>255</td>\n",
       "      <td>187</td>\n",
       "      <td>22</td>\n",
       "      <td>255</td>\n",
       "      <td>183</td>\n",
       "      <td>8</td>\n",
       "      <td>255</td>\n",
       "      <td>183</td>\n",
       "      <td>9</td>\n",
       "      <td>...</td>\n",
       "      <td>255</td>\n",
       "      <td>183</td>\n",
       "      <td>9</td>\n",
       "      <td>255</td>\n",
       "      <td>183</td>\n",
       "      <td>8</td>\n",
       "      <td>255</td>\n",
       "      <td>187</td>\n",
       "      <td>22</td>\n",
       "      <td>yellow</td>\n",
       "    </tr>\n",
       "    <tr>\n",
       "      <th>246</th>\n",
       "      <td>246</td>\n",
       "      <td>255</td>\n",
       "      <td>255</td>\n",
       "      <td>0</td>\n",
       "      <td>255</td>\n",
       "      <td>255</td>\n",
       "      <td>0</td>\n",
       "      <td>255</td>\n",
       "      <td>255</td>\n",
       "      <td>0</td>\n",
       "      <td>...</td>\n",
       "      <td>255</td>\n",
       "      <td>255</td>\n",
       "      <td>0</td>\n",
       "      <td>255</td>\n",
       "      <td>255</td>\n",
       "      <td>0</td>\n",
       "      <td>255</td>\n",
       "      <td>255</td>\n",
       "      <td>0</td>\n",
       "      <td>yellow</td>\n",
       "    </tr>\n",
       "    <tr>\n",
       "      <th>247</th>\n",
       "      <td>247</td>\n",
       "      <td>255</td>\n",
       "      <td>166</td>\n",
       "      <td>0</td>\n",
       "      <td>255</td>\n",
       "      <td>166</td>\n",
       "      <td>0</td>\n",
       "      <td>255</td>\n",
       "      <td>166</td>\n",
       "      <td>0</td>\n",
       "      <td>...</td>\n",
       "      <td>255</td>\n",
       "      <td>166</td>\n",
       "      <td>0</td>\n",
       "      <td>255</td>\n",
       "      <td>166</td>\n",
       "      <td>0</td>\n",
       "      <td>255</td>\n",
       "      <td>166</td>\n",
       "      <td>0</td>\n",
       "      <td>yellow</td>\n",
       "    </tr>\n",
       "    <tr>\n",
       "      <th>248</th>\n",
       "      <td>248</td>\n",
       "      <td>249</td>\n",
       "      <td>217</td>\n",
       "      <td>94</td>\n",
       "      <td>249</td>\n",
       "      <td>217</td>\n",
       "      <td>94</td>\n",
       "      <td>249</td>\n",
       "      <td>217</td>\n",
       "      <td>94</td>\n",
       "      <td>...</td>\n",
       "      <td>249</td>\n",
       "      <td>217</td>\n",
       "      <td>94</td>\n",
       "      <td>249</td>\n",
       "      <td>217</td>\n",
       "      <td>94</td>\n",
       "      <td>249</td>\n",
       "      <td>217</td>\n",
       "      <td>94</td>\n",
       "      <td>yellow</td>\n",
       "    </tr>\n",
       "    <tr>\n",
       "      <th>249</th>\n",
       "      <td>249</td>\n",
       "      <td>246</td>\n",
       "      <td>191</td>\n",
       "      <td>39</td>\n",
       "      <td>246</td>\n",
       "      <td>191</td>\n",
       "      <td>39</td>\n",
       "      <td>246</td>\n",
       "      <td>191</td>\n",
       "      <td>39</td>\n",
       "      <td>...</td>\n",
       "      <td>246</td>\n",
       "      <td>191</td>\n",
       "      <td>39</td>\n",
       "      <td>246</td>\n",
       "      <td>191</td>\n",
       "      <td>39</td>\n",
       "      <td>246</td>\n",
       "      <td>191</td>\n",
       "      <td>39</td>\n",
       "      <td>yellow</td>\n",
       "    </tr>\n",
       "  </tbody>\n",
       "</table>\n",
       "<p>250 rows × 2354 columns</p>\n",
       "</div>"
      ],
      "text/plain": [
       "     Unnamed: 0    0    1   2    3    4   5    6    7   8  ...  2343  2344  \\\n",
       "0             0   10    5   2   10    5   2   10    5   2  ...    10     5   \n",
       "1             1   17    0  17   17    0  17   17    0  17  ...    17     0   \n",
       "2             2   29   24  23   29   24  23   29   24  23  ...    29    24   \n",
       "3             3   47   47  47   47   47  47   47   47  47  ...    47    47   \n",
       "4             4   28   29  33   28   29  33   28   29  33  ...    28    29   \n",
       "..          ...  ...  ...  ..  ...  ...  ..  ...  ...  ..  ...   ...   ...   \n",
       "245         245  255  187  22  255  183   8  255  183   9  ...   255   183   \n",
       "246         246  255  255   0  255  255   0  255  255   0  ...   255   255   \n",
       "247         247  255  166   0  255  166   0  255  166   0  ...   255   166   \n",
       "248         248  249  217  94  249  217  94  249  217  94  ...   249   217   \n",
       "249         249  246  191  39  246  191  39  246  191  39  ...   246   191   \n",
       "\n",
       "     2345  2346  2347  2348  2349  2350  2351   label  \n",
       "0       2    10     5     2    10     5     2   black  \n",
       "1      17    17     0    17    17     0    17   black  \n",
       "2      23    29    24    23    29    24    23   black  \n",
       "3      47    47    47    47    47    47    47   black  \n",
       "4      33    28    29    33    28    29    33   black  \n",
       "..    ...   ...   ...   ...   ...   ...   ...     ...  \n",
       "245     9   255   183     8   255   187    22  yellow  \n",
       "246     0   255   255     0   255   255     0  yellow  \n",
       "247     0   255   166     0   255   166     0  yellow  \n",
       "248    94   249   217    94   249   217    94  yellow  \n",
       "249    39   246   191    39   246   191    39  yellow  \n",
       "\n",
       "[250 rows x 2354 columns]"
      ]
     },
     "execution_count": 7,
     "metadata": {},
     "output_type": "execute_result"
    }
   ],
   "source": [
    "df"
   ]
  },
  {
   "cell_type": "code",
   "execution_count": 9,
   "metadata": {},
   "outputs": [
    {
     "data": {
      "text/html": [
       "<div>\n",
       "<style scoped>\n",
       "    .dataframe tbody tr th:only-of-type {\n",
       "        vertical-align: middle;\n",
       "    }\n",
       "\n",
       "    .dataframe tbody tr th {\n",
       "        vertical-align: top;\n",
       "    }\n",
       "\n",
       "    .dataframe thead th {\n",
       "        text-align: right;\n",
       "    }\n",
       "</style>\n",
       "<table border=\"1\" class=\"dataframe\">\n",
       "  <thead>\n",
       "    <tr style=\"text-align: right;\">\n",
       "      <th></th>\n",
       "      <th>0</th>\n",
       "      <th>1</th>\n",
       "      <th>2</th>\n",
       "      <th>3</th>\n",
       "      <th>4</th>\n",
       "      <th>5</th>\n",
       "      <th>6</th>\n",
       "      <th>7</th>\n",
       "      <th>8</th>\n",
       "      <th>9</th>\n",
       "      <th>...</th>\n",
       "      <th>2342</th>\n",
       "      <th>2343</th>\n",
       "      <th>2344</th>\n",
       "      <th>2345</th>\n",
       "      <th>2346</th>\n",
       "      <th>2347</th>\n",
       "      <th>2348</th>\n",
       "      <th>2349</th>\n",
       "      <th>2350</th>\n",
       "      <th>2351</th>\n",
       "    </tr>\n",
       "  </thead>\n",
       "  <tbody>\n",
       "    <tr>\n",
       "      <th>0</th>\n",
       "      <td>10</td>\n",
       "      <td>5</td>\n",
       "      <td>2</td>\n",
       "      <td>10</td>\n",
       "      <td>5</td>\n",
       "      <td>2</td>\n",
       "      <td>10</td>\n",
       "      <td>5</td>\n",
       "      <td>2</td>\n",
       "      <td>10</td>\n",
       "      <td>...</td>\n",
       "      <td>2</td>\n",
       "      <td>10</td>\n",
       "      <td>5</td>\n",
       "      <td>2</td>\n",
       "      <td>10</td>\n",
       "      <td>5</td>\n",
       "      <td>2</td>\n",
       "      <td>10</td>\n",
       "      <td>5</td>\n",
       "      <td>2</td>\n",
       "    </tr>\n",
       "    <tr>\n",
       "      <th>1</th>\n",
       "      <td>17</td>\n",
       "      <td>0</td>\n",
       "      <td>17</td>\n",
       "      <td>17</td>\n",
       "      <td>0</td>\n",
       "      <td>17</td>\n",
       "      <td>17</td>\n",
       "      <td>0</td>\n",
       "      <td>17</td>\n",
       "      <td>17</td>\n",
       "      <td>...</td>\n",
       "      <td>17</td>\n",
       "      <td>17</td>\n",
       "      <td>0</td>\n",
       "      <td>17</td>\n",
       "      <td>17</td>\n",
       "      <td>0</td>\n",
       "      <td>17</td>\n",
       "      <td>17</td>\n",
       "      <td>0</td>\n",
       "      <td>17</td>\n",
       "    </tr>\n",
       "    <tr>\n",
       "      <th>2</th>\n",
       "      <td>29</td>\n",
       "      <td>24</td>\n",
       "      <td>23</td>\n",
       "      <td>29</td>\n",
       "      <td>24</td>\n",
       "      <td>23</td>\n",
       "      <td>29</td>\n",
       "      <td>24</td>\n",
       "      <td>23</td>\n",
       "      <td>29</td>\n",
       "      <td>...</td>\n",
       "      <td>23</td>\n",
       "      <td>29</td>\n",
       "      <td>24</td>\n",
       "      <td>23</td>\n",
       "      <td>29</td>\n",
       "      <td>24</td>\n",
       "      <td>23</td>\n",
       "      <td>29</td>\n",
       "      <td>24</td>\n",
       "      <td>23</td>\n",
       "    </tr>\n",
       "    <tr>\n",
       "      <th>3</th>\n",
       "      <td>47</td>\n",
       "      <td>47</td>\n",
       "      <td>47</td>\n",
       "      <td>47</td>\n",
       "      <td>47</td>\n",
       "      <td>47</td>\n",
       "      <td>47</td>\n",
       "      <td>47</td>\n",
       "      <td>47</td>\n",
       "      <td>47</td>\n",
       "      <td>...</td>\n",
       "      <td>47</td>\n",
       "      <td>47</td>\n",
       "      <td>47</td>\n",
       "      <td>47</td>\n",
       "      <td>47</td>\n",
       "      <td>47</td>\n",
       "      <td>47</td>\n",
       "      <td>47</td>\n",
       "      <td>47</td>\n",
       "      <td>47</td>\n",
       "    </tr>\n",
       "    <tr>\n",
       "      <th>4</th>\n",
       "      <td>28</td>\n",
       "      <td>29</td>\n",
       "      <td>33</td>\n",
       "      <td>28</td>\n",
       "      <td>29</td>\n",
       "      <td>33</td>\n",
       "      <td>28</td>\n",
       "      <td>29</td>\n",
       "      <td>33</td>\n",
       "      <td>28</td>\n",
       "      <td>...</td>\n",
       "      <td>33</td>\n",
       "      <td>28</td>\n",
       "      <td>29</td>\n",
       "      <td>33</td>\n",
       "      <td>28</td>\n",
       "      <td>29</td>\n",
       "      <td>33</td>\n",
       "      <td>28</td>\n",
       "      <td>29</td>\n",
       "      <td>33</td>\n",
       "    </tr>\n",
       "    <tr>\n",
       "      <th>...</th>\n",
       "      <td>...</td>\n",
       "      <td>...</td>\n",
       "      <td>...</td>\n",
       "      <td>...</td>\n",
       "      <td>...</td>\n",
       "      <td>...</td>\n",
       "      <td>...</td>\n",
       "      <td>...</td>\n",
       "      <td>...</td>\n",
       "      <td>...</td>\n",
       "      <td>...</td>\n",
       "      <td>...</td>\n",
       "      <td>...</td>\n",
       "      <td>...</td>\n",
       "      <td>...</td>\n",
       "      <td>...</td>\n",
       "      <td>...</td>\n",
       "      <td>...</td>\n",
       "      <td>...</td>\n",
       "      <td>...</td>\n",
       "      <td>...</td>\n",
       "    </tr>\n",
       "    <tr>\n",
       "      <th>245</th>\n",
       "      <td>255</td>\n",
       "      <td>187</td>\n",
       "      <td>22</td>\n",
       "      <td>255</td>\n",
       "      <td>183</td>\n",
       "      <td>8</td>\n",
       "      <td>255</td>\n",
       "      <td>183</td>\n",
       "      <td>9</td>\n",
       "      <td>255</td>\n",
       "      <td>...</td>\n",
       "      <td>9</td>\n",
       "      <td>255</td>\n",
       "      <td>183</td>\n",
       "      <td>9</td>\n",
       "      <td>255</td>\n",
       "      <td>183</td>\n",
       "      <td>8</td>\n",
       "      <td>255</td>\n",
       "      <td>187</td>\n",
       "      <td>22</td>\n",
       "    </tr>\n",
       "    <tr>\n",
       "      <th>246</th>\n",
       "      <td>255</td>\n",
       "      <td>255</td>\n",
       "      <td>0</td>\n",
       "      <td>255</td>\n",
       "      <td>255</td>\n",
       "      <td>0</td>\n",
       "      <td>255</td>\n",
       "      <td>255</td>\n",
       "      <td>0</td>\n",
       "      <td>255</td>\n",
       "      <td>...</td>\n",
       "      <td>0</td>\n",
       "      <td>255</td>\n",
       "      <td>255</td>\n",
       "      <td>0</td>\n",
       "      <td>255</td>\n",
       "      <td>255</td>\n",
       "      <td>0</td>\n",
       "      <td>255</td>\n",
       "      <td>255</td>\n",
       "      <td>0</td>\n",
       "    </tr>\n",
       "    <tr>\n",
       "      <th>247</th>\n",
       "      <td>255</td>\n",
       "      <td>166</td>\n",
       "      <td>0</td>\n",
       "      <td>255</td>\n",
       "      <td>166</td>\n",
       "      <td>0</td>\n",
       "      <td>255</td>\n",
       "      <td>166</td>\n",
       "      <td>0</td>\n",
       "      <td>255</td>\n",
       "      <td>...</td>\n",
       "      <td>0</td>\n",
       "      <td>255</td>\n",
       "      <td>166</td>\n",
       "      <td>0</td>\n",
       "      <td>255</td>\n",
       "      <td>166</td>\n",
       "      <td>0</td>\n",
       "      <td>255</td>\n",
       "      <td>166</td>\n",
       "      <td>0</td>\n",
       "    </tr>\n",
       "    <tr>\n",
       "      <th>248</th>\n",
       "      <td>249</td>\n",
       "      <td>217</td>\n",
       "      <td>94</td>\n",
       "      <td>249</td>\n",
       "      <td>217</td>\n",
       "      <td>94</td>\n",
       "      <td>249</td>\n",
       "      <td>217</td>\n",
       "      <td>94</td>\n",
       "      <td>249</td>\n",
       "      <td>...</td>\n",
       "      <td>94</td>\n",
       "      <td>249</td>\n",
       "      <td>217</td>\n",
       "      <td>94</td>\n",
       "      <td>249</td>\n",
       "      <td>217</td>\n",
       "      <td>94</td>\n",
       "      <td>249</td>\n",
       "      <td>217</td>\n",
       "      <td>94</td>\n",
       "    </tr>\n",
       "    <tr>\n",
       "      <th>249</th>\n",
       "      <td>246</td>\n",
       "      <td>191</td>\n",
       "      <td>39</td>\n",
       "      <td>246</td>\n",
       "      <td>191</td>\n",
       "      <td>39</td>\n",
       "      <td>246</td>\n",
       "      <td>191</td>\n",
       "      <td>39</td>\n",
       "      <td>246</td>\n",
       "      <td>...</td>\n",
       "      <td>39</td>\n",
       "      <td>246</td>\n",
       "      <td>191</td>\n",
       "      <td>39</td>\n",
       "      <td>246</td>\n",
       "      <td>191</td>\n",
       "      <td>39</td>\n",
       "      <td>246</td>\n",
       "      <td>191</td>\n",
       "      <td>39</td>\n",
       "    </tr>\n",
       "  </tbody>\n",
       "</table>\n",
       "<p>250 rows × 2352 columns</p>\n",
       "</div>"
      ],
      "text/plain": [
       "       0    1   2    3    4   5    6    7   8    9  ...  2342  2343  2344  \\\n",
       "0     10    5   2   10    5   2   10    5   2   10  ...     2    10     5   \n",
       "1     17    0  17   17    0  17   17    0  17   17  ...    17    17     0   \n",
       "2     29   24  23   29   24  23   29   24  23   29  ...    23    29    24   \n",
       "3     47   47  47   47   47  47   47   47  47   47  ...    47    47    47   \n",
       "4     28   29  33   28   29  33   28   29  33   28  ...    33    28    29   \n",
       "..   ...  ...  ..  ...  ...  ..  ...  ...  ..  ...  ...   ...   ...   ...   \n",
       "245  255  187  22  255  183   8  255  183   9  255  ...     9   255   183   \n",
       "246  255  255   0  255  255   0  255  255   0  255  ...     0   255   255   \n",
       "247  255  166   0  255  166   0  255  166   0  255  ...     0   255   166   \n",
       "248  249  217  94  249  217  94  249  217  94  249  ...    94   249   217   \n",
       "249  246  191  39  246  191  39  246  191  39  246  ...    39   246   191   \n",
       "\n",
       "     2345  2346  2347  2348  2349  2350  2351  \n",
       "0       2    10     5     2    10     5     2  \n",
       "1      17    17     0    17    17     0    17  \n",
       "2      23    29    24    23    29    24    23  \n",
       "3      47    47    47    47    47    47    47  \n",
       "4      33    28    29    33    28    29    33  \n",
       "..    ...   ...   ...   ...   ...   ...   ...  \n",
       "245     9   255   183     8   255   187    22  \n",
       "246     0   255   255     0   255   255     0  \n",
       "247     0   255   166     0   255   166     0  \n",
       "248    94   249   217    94   249   217    94  \n",
       "249    39   246   191    39   246   191    39  \n",
       "\n",
       "[250 rows x 2352 columns]"
      ]
     },
     "execution_count": 9,
     "metadata": {},
     "output_type": "execute_result"
    }
   ],
   "source": [
    "X=df.iloc[:,:-1]\n",
    "Z=X.drop( ['Unnamed: 0'] ,axis=1)\n",
    "Z\n",
    "\n"
   ]
  },
  {
   "cell_type": "code",
   "execution_count": 10,
   "metadata": {
    "scrolled": true
   },
   "outputs": [
    {
     "data": {
      "text/plain": [
       "0       black\n",
       "1       black\n",
       "2       black\n",
       "3       black\n",
       "4       black\n",
       "        ...  \n",
       "245    yellow\n",
       "246    yellow\n",
       "247    yellow\n",
       "248    yellow\n",
       "249    yellow\n",
       "Name: label, Length: 250, dtype: object"
      ]
     },
     "execution_count": 10,
     "metadata": {},
     "output_type": "execute_result"
    }
   ],
   "source": [
    "Y = df['label']\n",
    "Y"
   ]
  },
  {
   "cell_type": "code",
   "execution_count": 12,
   "metadata": {},
   "outputs": [],
   "source": [
    "from sklearn.tree import DecisionTreeClassifier\n",
    "from sklearn.model_selection import train_test_split\n",
    "from sklearn.preprocessing import LabelEncoder"
   ]
  },
  {
   "cell_type": "code",
   "execution_count": 13,
   "metadata": {},
   "outputs": [],
   "source": [
    "Dtreg=DecisionTreeClassifier()"
   ]
  },
  {
   "cell_type": "code",
   "execution_count": 14,
   "metadata": {},
   "outputs": [],
   "source": [
    "Z_train,Z_test,Y_train,Y_test=train_test_split(Z,Y,test_size=0.2,random_state=0)"
   ]
  },
  {
   "cell_type": "code",
   "execution_count": 15,
   "metadata": {},
   "outputs": [
    {
     "data": {
      "text/plain": [
       "DecisionTreeClassifier()"
      ]
     },
     "execution_count": 15,
     "metadata": {},
     "output_type": "execute_result"
    }
   ],
   "source": [
    "Dtreg.fit(Z,Y)"
   ]
  },
  {
   "cell_type": "code",
   "execution_count": 29,
   "metadata": {},
   "outputs": [],
   "source": [
    "ypred=Dtreg.predict(Z_test)"
   ]
  },
  {
   "cell_type": "code",
   "execution_count": 30,
   "metadata": {},
   "outputs": [
    {
     "data": {
      "text/plain": [
       "array(['yellow', 'grey', 'green', 'red', 'red', 'red', 'violet', 'green',\n",
       "       'brown', 'red', 'white', 'yellow', 'grey', 'violet', 'grey',\n",
       "       'brown', 'white', 'orange', 'red', 'green', 'red', 'blue',\n",
       "       'yellow', 'grey', 'red', 'green', 'black', 'brown', 'violet',\n",
       "       'blue', 'white', 'green', 'grey', 'red', 'red', 'orange', 'orange',\n",
       "       'black', 'black', 'orange', 'grey', 'black', 'grey', 'violet',\n",
       "       'green', 'green', 'red', 'blue', 'brown', 'violet'], dtype=object)"
      ]
     },
     "execution_count": 30,
     "metadata": {},
     "output_type": "execute_result"
    }
   ],
   "source": [
    "ypred"
   ]
  },
  {
   "cell_type": "code",
   "execution_count": 17,
   "metadata": {},
   "outputs": [],
   "source": [
    "from PIL import Image "
   ]
  },
  {
   "cell_type": "code",
   "execution_count": 18,
   "metadata": {
    "scrolled": true
   },
   "outputs": [],
   "source": [
    "fname=\"C:\\\\Users\\\\User\\\\Desktop\\\\ffff31.png\"\n",
    "img=Image.open(fname).convert('RGB')\n",
    "        "
   ]
  },
  {
   "cell_type": "code",
   "execution_count": 39,
   "metadata": {},
   "outputs": [
    {
     "name": "stdout",
     "output_type": "stream",
     "text": [
      "<PIL.Image.Image image mode=RGB size=150x200 at 0x170796E9D00>\n"
     ]
    }
   ],
   "source": [
    "print(img)"
   ]
  },
  {
   "cell_type": "code",
   "execution_count": 7,
   "metadata": {},
   "outputs": [],
   "source": [
    "\n",
    "        img = img.resize((28,28))     \n",
    "        img1 = np.asarray(img)\n",
    "        img1 = img1.reshape(-1,)\n",
    "        \n",
    "    "
   ]
  },
  {
   "cell_type": "code",
   "execution_count": 51,
   "metadata": {
    "scrolled": true
   },
   "outputs": [
    {
     "data": {
      "text/plain": [
       "array([255, 255,  49, ..., 255, 255,  49], dtype=uint8)"
      ]
     },
     "execution_count": 51,
     "metadata": {},
     "output_type": "execute_result"
    }
   ],
   "source": [
    "img1"
   ]
  },
  {
   "cell_type": "code",
   "execution_count": 28,
   "metadata": {},
   "outputs": [],
   "source": [
    "data=[]"
   ]
  },
  {
   "cell_type": "code",
   "execution_count": 53,
   "metadata": {},
   "outputs": [],
   "source": [
    " data.append(img1)"
   ]
  },
  {
   "cell_type": "code",
   "execution_count": 46,
   "metadata": {},
   "outputs": [
    {
     "data": {
      "text/plain": [
       "[array([[[255, 255,  49],\n",
       "         [255, 255,  49],\n",
       "         [255, 255,  49],\n",
       "         ...,\n",
       "         [255, 255,  49],\n",
       "         [255, 255,  49],\n",
       "         [255, 255,  49]],\n",
       " \n",
       "        [[255, 255,  49],\n",
       "         [255, 255,  49],\n",
       "         [255, 255,  49],\n",
       "         ...,\n",
       "         [255, 255,  49],\n",
       "         [255, 255,  49],\n",
       "         [255, 255,  49]],\n",
       " \n",
       "        [[255, 255,  49],\n",
       "         [255, 255,  49],\n",
       "         [255, 255,  49],\n",
       "         ...,\n",
       "         [255, 255,  49],\n",
       "         [255, 255,  49],\n",
       "         [255, 255,  49]],\n",
       " \n",
       "        ...,\n",
       " \n",
       "        [[255, 255,  49],\n",
       "         [255, 255,  49],\n",
       "         [255, 255,  49],\n",
       "         ...,\n",
       "         [255, 255,  49],\n",
       "         [255, 255,  49],\n",
       "         [255, 255,  49]],\n",
       " \n",
       "        [[255, 255,  49],\n",
       "         [255, 255,  49],\n",
       "         [255, 255,  49],\n",
       "         ...,\n",
       "         [255, 255,  49],\n",
       "         [255, 255,  49],\n",
       "         [255, 255,  49]],\n",
       " \n",
       "        [[255, 255,  49],\n",
       "         [255, 255,  49],\n",
       "         [255, 255,  49],\n",
       "         ...,\n",
       "         [255, 255,  49],\n",
       "         [255, 255,  49],\n",
       "         [255, 255,  49]]], dtype=uint8)]"
      ]
     },
     "execution_count": 46,
     "metadata": {},
     "output_type": "execute_result"
    }
   ],
   "source": [
    "data"
   ]
  },
  {
   "cell_type": "code",
   "execution_count": 89,
   "metadata": {},
   "outputs": [],
   "source": [
    "f = pd.DataFrame(data,columns=[str(i) for i in range(28*28*3)])"
   ]
  },
  {
   "cell_type": "code",
   "execution_count": 102,
   "metadata": {},
   "outputs": [
    {
     "data": {
      "text/html": [
       "<div>\n",
       "<style scoped>\n",
       "    .dataframe tbody tr th:only-of-type {\n",
       "        vertical-align: middle;\n",
       "    }\n",
       "\n",
       "    .dataframe tbody tr th {\n",
       "        vertical-align: top;\n",
       "    }\n",
       "\n",
       "    .dataframe thead th {\n",
       "        text-align: right;\n",
       "    }\n",
       "</style>\n",
       "<table border=\"1\" class=\"dataframe\">\n",
       "  <thead>\n",
       "    <tr style=\"text-align: right;\">\n",
       "      <th></th>\n",
       "      <th>0</th>\n",
       "      <th>1</th>\n",
       "      <th>2</th>\n",
       "      <th>3</th>\n",
       "      <th>4</th>\n",
       "      <th>5</th>\n",
       "      <th>6</th>\n",
       "      <th>7</th>\n",
       "      <th>8</th>\n",
       "      <th>9</th>\n",
       "      <th>...</th>\n",
       "      <th>2342</th>\n",
       "      <th>2343</th>\n",
       "      <th>2344</th>\n",
       "      <th>2345</th>\n",
       "      <th>2346</th>\n",
       "      <th>2347</th>\n",
       "      <th>2348</th>\n",
       "      <th>2349</th>\n",
       "      <th>2350</th>\n",
       "      <th>2351</th>\n",
       "    </tr>\n",
       "  </thead>\n",
       "  <tbody>\n",
       "    <tr>\n",
       "      <th>0</th>\n",
       "      <td>255</td>\n",
       "      <td>255</td>\n",
       "      <td>49</td>\n",
       "      <td>255</td>\n",
       "      <td>255</td>\n",
       "      <td>49</td>\n",
       "      <td>255</td>\n",
       "      <td>255</td>\n",
       "      <td>49</td>\n",
       "      <td>255</td>\n",
       "      <td>...</td>\n",
       "      <td>49</td>\n",
       "      <td>255</td>\n",
       "      <td>255</td>\n",
       "      <td>49</td>\n",
       "      <td>255</td>\n",
       "      <td>255</td>\n",
       "      <td>49</td>\n",
       "      <td>255</td>\n",
       "      <td>255</td>\n",
       "      <td>49</td>\n",
       "    </tr>\n",
       "  </tbody>\n",
       "</table>\n",
       "<p>1 rows × 2352 columns</p>\n",
       "</div>"
      ],
      "text/plain": [
       "     0    1   2    3    4   5    6    7   8    9  ...  2342  2343  2344  2345  \\\n",
       "0  255  255  49  255  255  49  255  255  49  255  ...    49   255   255    49   \n",
       "\n",
       "   2346  2347  2348  2349  2350  2351  \n",
       "0   255   255    49   255   255    49  \n",
       "\n",
       "[1 rows x 2352 columns]"
      ]
     },
     "execution_count": 102,
     "metadata": {},
     "output_type": "execute_result"
    }
   ],
   "source": [
    "f"
   ]
  },
  {
   "cell_type": "code",
   "execution_count": 34,
   "metadata": {},
   "outputs": [],
   "source": [
    "import matplotlib.pyplot as plt"
   ]
  },
  {
   "cell_type": "code",
   "execution_count": 8,
   "metadata": {},
   "outputs": [
    {
     "data": {
      "text/plain": [
       "<matplotlib.image.AxesImage at 0x2948a9055b0>"
      ]
     },
     "execution_count": 8,
     "metadata": {},
     "output_type": "execute_result"
    },
    {
     "data": {
      "image/png": "[encoded data removed]",
      "text/plain": [
       "<Figure size 432x288 with 1 Axes>"
      ]
     },
     "metadata": {
      "needs_background": "light"
     },
     "output_type": "display_data"
    }
   ],
   "source": [
    "plt.imshow(img)"
   ]
  },
  {
   "cell_type": "code",
   "execution_count": 19,
   "metadata": {},
   "outputs": [],
   "source": [
    "fname=\"C:\\\\Users\\\\User\\\\Desktop\\\\testimage.jpg\"\n",
    "img=Image.open(fname).convert('RGB')\n",
    "        "
   ]
  },
  {
   "cell_type": "code",
   "execution_count": 20,
   "metadata": {},
   "outputs": [],
   "source": [
    "img=img.resize((28,28))\n",
    "img1=np.array(img)\n",
    "img1=img1.reshape(-1)"
   ]
  },
  {
   "cell_type": "code",
   "execution_count": 21,
   "metadata": {},
   "outputs": [
    {
     "data": {
      "text/plain": [
       "array([182,   6,  17, ..., 141,   9,  13], dtype=uint8)"
      ]
     },
     "execution_count": 21,
     "metadata": {},
     "output_type": "execute_result"
    }
   ],
   "source": [
    "img1"
   ]
  },
  {
   "cell_type": "code",
   "execution_count": 22,
   "metadata": {},
   "outputs": [],
   "source": [
    "data=[]\n",
    "data.append(img1)"
   ]
  },
  {
   "cell_type": "code",
   "execution_count": 23,
   "metadata": {},
   "outputs": [
    {
     "data": {
      "text/html": [
       "<div>\n",
       "<style scoped>\n",
       "    .dataframe tbody tr th:only-of-type {\n",
       "        vertical-align: middle;\n",
       "    }\n",
       "\n",
       "    .dataframe tbody tr th {\n",
       "        vertical-align: top;\n",
       "    }\n",
       "\n",
       "    .dataframe thead th {\n",
       "        text-align: right;\n",
       "    }\n",
       "</style>\n",
       "<table border=\"1\" class=\"dataframe\">\n",
       "  <thead>\n",
       "    <tr style=\"text-align: right;\">\n",
       "      <th></th>\n",
       "      <th>0</th>\n",
       "      <th>1</th>\n",
       "      <th>2</th>\n",
       "      <th>3</th>\n",
       "      <th>4</th>\n",
       "      <th>5</th>\n",
       "      <th>6</th>\n",
       "      <th>7</th>\n",
       "      <th>8</th>\n",
       "      <th>9</th>\n",
       "      <th>...</th>\n",
       "      <th>2342</th>\n",
       "      <th>2343</th>\n",
       "      <th>2344</th>\n",
       "      <th>2345</th>\n",
       "      <th>2346</th>\n",
       "      <th>2347</th>\n",
       "      <th>2348</th>\n",
       "      <th>2349</th>\n",
       "      <th>2350</th>\n",
       "      <th>2351</th>\n",
       "    </tr>\n",
       "  </thead>\n",
       "  <tbody>\n",
       "    <tr>\n",
       "      <th>0</th>\n",
       "      <td>182</td>\n",
       "      <td>6</td>\n",
       "      <td>17</td>\n",
       "      <td>174</td>\n",
       "      <td>5</td>\n",
       "      <td>14</td>\n",
       "      <td>148</td>\n",
       "      <td>6</td>\n",
       "      <td>14</td>\n",
       "      <td>143</td>\n",
       "      <td>...</td>\n",
       "      <td>13</td>\n",
       "      <td>104</td>\n",
       "      <td>8</td>\n",
       "      <td>14</td>\n",
       "      <td>159</td>\n",
       "      <td>12</td>\n",
       "      <td>21</td>\n",
       "      <td>141</td>\n",
       "      <td>9</td>\n",
       "      <td>13</td>\n",
       "    </tr>\n",
       "  </tbody>\n",
       "</table>\n",
       "<p>1 rows × 2352 columns</p>\n",
       "</div>"
      ],
      "text/plain": [
       "     0  1   2    3  4   5    6  7   8    9  ...  2342  2343  2344  2345  2346  \\\n",
       "0  182  6  17  174  5  14  148  6  14  143  ...    13   104     8    14   159   \n",
       "\n",
       "   2347  2348  2349  2350  2351  \n",
       "0    12    21   141     9    13  \n",
       "\n",
       "[1 rows x 2352 columns]"
      ]
     },
     "execution_count": 23,
     "metadata": {},
     "output_type": "execute_result"
    }
   ],
   "source": [
    "F = pd.DataFrame(data,columns=[str(i) for i in range(28*28*3)])\n",
    "F"
   ]
  },
  {
   "cell_type": "code",
   "execution_count": 26,
   "metadata": {},
   "outputs": [
    {
     "data": {
      "text/plain": [
       "<matplotlib.image.AxesImage at 0x1f6d07dda00>"
      ]
     },
     "execution_count": 26,
     "metadata": {},
     "output_type": "execute_result"
    },
    {
     "data": {
      "image/png": "[encoded data removed]",
      "text/plain": [
       "<Figure size 432x288 with 1 Axes>"
      ]
     },
     "metadata": {
      "needs_background": "light"
     },
     "output_type": "display_data"
    }
   ],
   "source": [
    "plt.imshow(img)"
   ]
  },
  {
   "cell_type": "code",
   "execution_count": 27,
   "metadata": {},
   "outputs": [],
   "source": [
    "ypred=Dtreg.predict(F)"
   ]
  },
  {
   "cell_type": "code",
   "execution_count": 28,
   "metadata": {},
   "outputs": [
    {
     "data": {
      "text/plain": [
       "array(['red'], dtype=object)"
      ]
     },
     "execution_count": 28,
     "metadata": {},
     "output_type": "execute_result"
    }
   ],
   "source": [
    "ypred"
   ]
  },
  {
   "cell_type": "code",
   "execution_count": 40,
   "metadata": {},
   "outputs": [],
   "source": [
    "from sklearn.metrics import accuracy_score"
   ]
  },
  {
   "cell_type": "code",
   "execution_count": 41,
   "metadata": {},
   "outputs": [
    {
     "data": {
      "text/plain": [
       "100.0"
      ]
     },
     "execution_count": 41,
     "metadata": {},
     "output_type": "execute_result"
    }
   ],
   "source": [
    "accuracy_score(Y_test,ypred)*100"
   ]
  },
  {
   "cell_type": "code",
   "execution_count": 33,
   "metadata": {},
   "outputs": [],
   "source": [
    "fname=\"C:\\\\Users\\\\User\\\\Desktop\\\\blacky.jpg\"\n",
    "img=Image.open(fname).convert('RGB')\n",
    "        "
   ]
  },
  {
   "cell_type": "code",
   "execution_count": 35,
   "metadata": {},
   "outputs": [
    {
     "data": {
      "text/plain": [
       "<matplotlib.image.AxesImage at 0x1f6d0ac4a60>"
      ]
     },
     "execution_count": 35,
     "metadata": {},
     "output_type": "execute_result"
    },
    {
     "data": {
      "image/png": "[encoded data removed]",
      "text/plain": [
       "<Figure size 432x288 with 1 Axes>"
      ]
     },
     "metadata": {
      "needs_background": "light"
     },
     "output_type": "display_data"
    }
   ],
   "source": [
    "plt.imshow(img)"
   ]
  },
  {
   "cell_type": "code",
   "execution_count": 37,
   "metadata": {},
   "outputs": [
    {
     "data": {
      "text/plain": [
       "array([191, 191, 191, ..., 169, 169, 169], dtype=uint8)"
      ]
     },
     "execution_count": 37,
     "metadata": {},
     "output_type": "execute_result"
    }
   ],
   "source": [
    "img=img.resize((28,28))\n",
    "img1=np.array(img)\n",
    "img1=img1.reshape(-1)\n",
    "img1"
   ]
  },
  {
   "cell_type": "code",
   "execution_count": 39,
   "metadata": {},
   "outputs": [
    {
     "data": {
      "text/plain": [
       "array([[[191, 191, 191],\n",
       "        [192, 192, 192],\n",
       "        [194, 194, 194],\n",
       "        ...,\n",
       "        [237, 237, 237],\n",
       "        [230, 230, 230],\n",
       "        [220, 220, 220]],\n",
       "\n",
       "       [[208, 208, 208],\n",
       "        [216, 216, 216],\n",
       "        [223, 223, 223],\n",
       "        ...,\n",
       "        [229, 229, 229],\n",
       "        [233, 233, 233],\n",
       "        [239, 239, 239]],\n",
       "\n",
       "       [[224, 224, 224],\n",
       "        [228, 228, 228],\n",
       "        [233, 233, 233],\n",
       "        ...,\n",
       "        [246, 246, 246],\n",
       "        [242, 242, 242],\n",
       "        [237, 237, 237]],\n",
       "\n",
       "       ...,\n",
       "\n",
       "       [[  3,   3,   3],\n",
       "        [  3,   3,   3],\n",
       "        [  5,   5,   5],\n",
       "        ...,\n",
       "        [179, 179, 179],\n",
       "        [173, 173, 173],\n",
       "        [154, 154, 154]],\n",
       "\n",
       "       [[  2,   2,   2],\n",
       "        [  2,   2,   2],\n",
       "        [  4,   4,   4],\n",
       "        ...,\n",
       "        [173, 173, 173],\n",
       "        [175, 175, 175],\n",
       "        [170, 170, 170]],\n",
       "\n",
       "       [[  1,   1,   1],\n",
       "        [  2,   2,   2],\n",
       "        [  4,   4,   4],\n",
       "        ...,\n",
       "        [172, 172, 172],\n",
       "        [174, 174, 174],\n",
       "        [169, 169, 169]]], dtype=uint8)"
      ]
     },
     "execution_count": 39,
     "metadata": {},
     "output_type": "execute_result"
    }
   ],
   "source": [
    "img=np.array(img)\n",
    "img"
   ]
  },
  {
   "cell_type": "code",
   "execution_count": null,
   "metadata": {},
   "outputs": [],
   "source": []
  }
 ],
 "metadata": {
  "kernelspec": {
   "display_name": "Python 3",
   "language": "python",
   "name": "python3"
  },
  "language_info": {
   "codemirror_mode": {
    "name": "ipython",
    "version": 3
   },
   "file_extension": ".py",
   "mimetype": "text/x-python",
   "name": "python",
   "nbconvert_exporter": "python",
   "pygments_lexer": "ipython3",
   "version": "3.8.5"
  }
 },
 "nbformat": 4,
 "nbformat_minor": 4
}
